{
 "cells": [
  {
   "cell_type": "code",
   "execution_count": 34,
   "metadata": {
    "collapsed": false
   },
   "outputs": [
    {
     "data": {
      "text/html": [
       "\n",
       "    <div class=\"bk-root\">\n",
       "        <a href=\"http://bokeh.pydata.org\" target=\"_blank\" class=\"bk-logo bk-logo-small bk-logo-notebook\"></a>\n",
       "        <span id=\"6fe30339-91c7-4f38-b8c1-fbb5cc3fde9c\">Loading BokehJS ...</span>\n",
       "    </div>"
      ]
     },
     "metadata": {},
     "output_type": "display_data"
    },
    {
     "data": {
      "application/javascript": [
       "\n",
       "(function(global) {\n",
       "  function now() {\n",
       "    return new Date();\n",
       "  }\n",
       "\n",
       "  var force = \"1\";\n",
       "\n",
       "  if (typeof (window._bokeh_onload_callbacks) === \"undefined\" || force !== \"\") {\n",
       "    window._bokeh_onload_callbacks = [];\n",
       "    window._bokeh_is_loading = undefined;\n",
       "  }\n",
       "\n",
       "\n",
       "  \n",
       "  if (typeof (window._bokeh_timeout) === \"undefined\" || force !== \"\") {\n",
       "    window._bokeh_timeout = Date.now() + 5000;\n",
       "    window._bokeh_failed_load = false;\n",
       "  }\n",
       "\n",
       "  var NB_LOAD_WARNING = {'data': {'text/html':\n",
       "     \"<div style='background-color: #fdd'>\\n\"+\n",
       "     \"<p>\\n\"+\n",
       "     \"BokehJS does not appear to have successfully loaded. If loading BokehJS from CDN, this \\n\"+\n",
       "     \"may be due to a slow or bad network connection. Possible fixes:\\n\"+\n",
       "     \"</p>\\n\"+\n",
       "     \"<ul>\\n\"+\n",
       "     \"<li>re-rerun `output_notebook()` to attempt to load from CDN again, or</li>\\n\"+\n",
       "     \"<li>use INLINE resources instead, as so:</li>\\n\"+\n",
       "     \"</ul>\\n\"+\n",
       "     \"<code>\\n\"+\n",
       "     \"from bokeh.resources import INLINE\\n\"+\n",
       "     \"output_notebook(resources=INLINE)\\n\"+\n",
       "     \"</code>\\n\"+\n",
       "     \"</div>\"}};\n",
       "\n",
       "  function display_loaded() {\n",
       "    if (window.Bokeh !== undefined) {\n",
       "      Bokeh.$(\"#6fe30339-91c7-4f38-b8c1-fbb5cc3fde9c\").text(\"BokehJS successfully loaded.\");\n",
       "    } else if (Date.now() < window._bokeh_timeout) {\n",
       "      setTimeout(display_loaded, 100)\n",
       "    }\n",
       "  }\n",
       "\n",
       "  function run_callbacks() {\n",
       "    window._bokeh_onload_callbacks.forEach(function(callback) { callback() });\n",
       "    delete window._bokeh_onload_callbacks\n",
       "    console.info(\"Bokeh: all callbacks have finished\");\n",
       "  }\n",
       "\n",
       "  function load_libs(js_urls, callback) {\n",
       "    window._bokeh_onload_callbacks.push(callback);\n",
       "    if (window._bokeh_is_loading > 0) {\n",
       "      console.log(\"Bokeh: BokehJS is being loaded, scheduling callback at\", now());\n",
       "      return null;\n",
       "    }\n",
       "    if (js_urls == null || js_urls.length === 0) {\n",
       "      run_callbacks();\n",
       "      return null;\n",
       "    }\n",
       "    console.log(\"Bokeh: BokehJS not loaded, scheduling load and callback at\", now());\n",
       "    window._bokeh_is_loading = js_urls.length;\n",
       "    for (var i = 0; i < js_urls.length; i++) {\n",
       "      var url = js_urls[i];\n",
       "      var s = document.createElement('script');\n",
       "      s.src = url;\n",
       "      s.async = false;\n",
       "      s.onreadystatechange = s.onload = function() {\n",
       "        window._bokeh_is_loading--;\n",
       "        if (window._bokeh_is_loading === 0) {\n",
       "          console.log(\"Bokeh: all BokehJS libraries loaded\");\n",
       "          run_callbacks()\n",
       "        }\n",
       "      };\n",
       "      s.onerror = function() {\n",
       "        console.warn(\"failed to load library \" + url);\n",
       "      };\n",
       "      console.log(\"Bokeh: injecting script tag for BokehJS library: \", url);\n",
       "      document.getElementsByTagName(\"head\")[0].appendChild(s);\n",
       "    }\n",
       "  };var element = document.getElementById(\"6fe30339-91c7-4f38-b8c1-fbb5cc3fde9c\");\n",
       "  if (element == null) {\n",
       "    console.log(\"Bokeh: ERROR: autoload.js configured with elementid '6fe30339-91c7-4f38-b8c1-fbb5cc3fde9c' but no matching script tag was found. \")\n",
       "    return false;\n",
       "  }\n",
       "\n",
       "  var js_urls = ['https://cdn.pydata.org/bokeh/release/bokeh-0.12.3.min.js', 'https://cdn.pydata.org/bokeh/release/bokeh-widgets-0.12.3.min.js'];\n",
       "\n",
       "  var inline_js = [\n",
       "    function(Bokeh) {\n",
       "      Bokeh.set_log_level(\"info\");\n",
       "    },\n",
       "    \n",
       "    function(Bokeh) {\n",
       "      \n",
       "      Bokeh.$(\"#6fe30339-91c7-4f38-b8c1-fbb5cc3fde9c\").text(\"BokehJS is loading...\");\n",
       "    },\n",
       "    function(Bokeh) {\n",
       "      console.log(\"Bokeh: injecting CSS: https://cdn.pydata.org/bokeh/release/bokeh-0.12.3.min.css\");\n",
       "      Bokeh.embed.inject_css(\"https://cdn.pydata.org/bokeh/release/bokeh-0.12.3.min.css\");\n",
       "      console.log(\"Bokeh: injecting CSS: https://cdn.pydata.org/bokeh/release/bokeh-widgets-0.12.3.min.css\");\n",
       "      Bokeh.embed.inject_css(\"https://cdn.pydata.org/bokeh/release/bokeh-widgets-0.12.3.min.css\");\n",
       "    }\n",
       "  ];\n",
       "\n",
       "  function run_inline_js() {\n",
       "    \n",
       "    if ((window.Bokeh !== undefined) || (force === \"1\")) {\n",
       "      for (var i = 0; i < inline_js.length; i++) {\n",
       "        inline_js[i](window.Bokeh);\n",
       "      }if (force === \"1\") {\n",
       "        display_loaded();\n",
       "      }} else if (Date.now() < window._bokeh_timeout) {\n",
       "      setTimeout(run_inline_js, 100);\n",
       "    } else if (!window._bokeh_failed_load) {\n",
       "      console.log(\"Bokeh: BokehJS failed to load within specified timeout.\");\n",
       "      window._bokeh_failed_load = true;\n",
       "    } else if (!force) {\n",
       "      var cell = $(\"#6fe30339-91c7-4f38-b8c1-fbb5cc3fde9c\").parents('.cell').data().cell;\n",
       "      cell.output_area.append_execute_result(NB_LOAD_WARNING)\n",
       "    }\n",
       "\n",
       "  }\n",
       "\n",
       "  if (window._bokeh_is_loading === 0) {\n",
       "    console.log(\"Bokeh: BokehJS loaded, going straight to plotting\");\n",
       "    run_inline_js();\n",
       "  } else {\n",
       "    load_libs(js_urls, function() {\n",
       "      console.log(\"Bokeh: BokehJS plotting callback run at\", now());\n",
       "      run_inline_js();\n",
       "    });\n",
       "  }\n",
       "}(this));"
      ]
     },
     "metadata": {},
     "output_type": "display_data"
    }
   ],
   "source": [
    "from __future__ import print_function\n",
    "\n",
    "import os\n",
    "import sys\n",
    "import struct\n",
    "import numpy as np\n",
    "from scipy.special import expit\n",
    "\n",
    "import pandas as pd\n",
    "\n",
    "import theano\n",
    "import theano.tensor as T\n",
    "\n",
    "from sklearn.preprocessing import LabelEncoder\n",
    "from sklearn.metrics import confusion_matrix\n",
    "from keras.utils import np_utils\n",
    "from keras.models import Sequential\n",
    "from keras.layers import Dense, Activation, Dropout, Flatten\n",
    "\n",
    "from bokeh.plotting import figure, output_notebook, show\n",
    "from bokeh.charts import HeatMap, bins\n",
    "\n",
    "import matplotlib.pyplot as plt\n",
    "%matplotlib inline\n",
    "\n",
    "output_notebook()"
   ]
  },
  {
   "cell_type": "code",
   "execution_count": 2,
   "metadata": {
    "collapsed": true
   },
   "outputs": [],
   "source": [
    "from keras.datasets import mnist\n",
    "(X_train, y_train), (X_test, y_test) = mnist.load_data()"
   ]
  },
  {
   "cell_type": "code",
   "execution_count": 3,
   "metadata": {
    "collapsed": false
   },
   "outputs": [
    {
     "name": "stdout",
     "output_type": "stream",
     "text": [
      "Training matrix shape (60000, 784)\n",
      "Testing matrix shape (10000, 784)\n"
     ]
    }
   ],
   "source": [
    "X_train = X_train.reshape(60000, 784)\n",
    "X_test = X_test.reshape(10000, 784)\n",
    "X_train = X_train.astype('float32')\n",
    "X_test = X_test.astype('float32')\n",
    "X_train /= 255\n",
    "X_test /= 255\n",
    "print(\"Training matrix shape\", X_train.shape)\n",
    "print(\"Testing matrix shape\", X_test.shape)"
   ]
  },
  {
   "cell_type": "code",
   "execution_count": 4,
   "metadata": {
    "collapsed": true
   },
   "outputs": [],
   "source": [
    "# one-hot-encode the categorical features\n",
    "nb_classes = 10\n",
    "Y_train = np_utils.to_categorical(y_train, nb_classes)\n",
    "Y_test = np_utils.to_categorical(y_test, nb_classes)"
   ]
  },
  {
   "cell_type": "code",
   "execution_count": 5,
   "metadata": {
    "collapsed": false
   },
   "outputs": [
    {
     "name": "stdout",
     "output_type": "stream",
     "text": [
      "Epoch 1/10\n",
      "60000/60000 [==============================] - 1s - loss: 0.3242 - acc: 0.9004     \n",
      "Epoch 2/10\n",
      "60000/60000 [==============================] - 1s - loss: 0.1310 - acc: 0.9599     \n",
      "Epoch 3/10\n",
      "60000/60000 [==============================] - 1s - loss: 0.0926 - acc: 0.9711     \n",
      "Epoch 4/10\n",
      "60000/60000 [==============================] - 2s - loss: 0.0762 - acc: 0.9766     \n",
      "Epoch 5/10\n",
      "60000/60000 [==============================] - 1s - loss: 0.0626 - acc: 0.9809     \n",
      "Epoch 6/10\n",
      "60000/60000 [==============================] - 2s - loss: 0.0537 - acc: 0.9834     \n",
      "Epoch 7/10\n",
      "60000/60000 [==============================] - 1s - loss: 0.0472 - acc: 0.9852     \n",
      "Epoch 8/10\n",
      "60000/60000 [==============================] - 1s - loss: 0.0437 - acc: 0.9872     \n",
      "Epoch 9/10\n",
      "60000/60000 [==============================] - 2s - loss: 0.0408 - acc: 0.9877     \n",
      "Epoch 10/10\n",
      "60000/60000 [==============================] - 1s - loss: 0.0346 - acc: 0.9893     \n",
      "Epoch 1/10\n",
      "60000/60000 [==============================] - 1s - loss: 0.3831 - acc: 0.8851     \n",
      "Epoch 2/10\n",
      "60000/60000 [==============================] - 1s - loss: 0.1416 - acc: 0.9577     \n",
      "Epoch 3/10\n",
      "60000/60000 [==============================] - 1s - loss: 0.1014 - acc: 0.9697     \n",
      "Epoch 4/10\n",
      "60000/60000 [==============================] - 1s - loss: 0.0803 - acc: 0.9755     \n",
      "Epoch 5/10\n",
      "60000/60000 [==============================] - 1s - loss: 0.0678 - acc: 0.9801     \n",
      "Epoch 6/10\n",
      "60000/60000 [==============================] - 1s - loss: 0.0589 - acc: 0.9824     \n",
      "Epoch 7/10\n",
      "60000/60000 [==============================] - 1s - loss: 0.0506 - acc: 0.9848     \n",
      "Epoch 8/10\n",
      "60000/60000 [==============================] - 1s - loss: 0.0444 - acc: 0.9867     \n",
      "Epoch 9/10\n",
      "60000/60000 [==============================] - 1s - loss: 0.0428 - acc: 0.9871     \n",
      "Epoch 10/10\n",
      "60000/60000 [==============================] - 1s - loss: 0.0372 - acc: 0.9890     \n",
      "Epoch 1/10\n",
      "60000/60000 [==============================] - 2s - loss: 0.6493 - acc: 0.7964     \n",
      "Epoch 2/10\n",
      "60000/60000 [==============================] - 2s - loss: 0.2612 - acc: 0.9198     \n",
      "Epoch 3/10\n",
      "60000/60000 [==============================] - 2s - loss: 0.1837 - acc: 0.9439     \n",
      "Epoch 4/10\n",
      "60000/60000 [==============================] - 2s - loss: 0.1458 - acc: 0.9552     \n",
      "Epoch 5/10\n",
      "60000/60000 [==============================] - 2s - loss: 0.1200 - acc: 0.9639     \n",
      "Epoch 6/10\n",
      "60000/60000 [==============================] - 2s - loss: 0.1051 - acc: 0.9683     \n",
      "Epoch 7/10\n",
      "60000/60000 [==============================] - 2s - loss: 0.0911 - acc: 0.9717     \n",
      "Epoch 8/10\n",
      "60000/60000 [==============================] - 2s - loss: 0.0829 - acc: 0.9747     \n",
      "Epoch 9/10\n",
      "60000/60000 [==============================] - 2s - loss: 0.0753 - acc: 0.9772     \n",
      "Epoch 10/10\n",
      "60000/60000 [==============================] - 2s - loss: 0.0695 - acc: 0.9786     \n",
      "Epoch 1/10\n",
      "60000/60000 [==============================] - 1s - loss: 0.6979 - acc: 0.7685     \n",
      "Epoch 2/10\n",
      "60000/60000 [==============================] - 1s - loss: 0.2732 - acc: 0.9169     \n",
      "Epoch 3/10\n",
      "60000/60000 [==============================] - 1s - loss: 0.1893 - acc: 0.9433     \n",
      "Epoch 4/10\n",
      "60000/60000 [==============================] - 1s - loss: 0.1469 - acc: 0.9560     \n",
      "Epoch 5/10\n",
      "60000/60000 [==============================] - 1s - loss: 0.1203 - acc: 0.9634     \n",
      "Epoch 6/10\n",
      "60000/60000 [==============================] - 1s - loss: 0.1048 - acc: 0.9681     \n",
      "Epoch 7/10\n",
      "60000/60000 [==============================] - 1s - loss: 0.0913 - acc: 0.9719     \n",
      "Epoch 8/10\n",
      "60000/60000 [==============================] - 1s - loss: 0.0823 - acc: 0.9754     \n",
      "Epoch 9/10\n",
      "60000/60000 [==============================] - 1s - loss: 0.0753 - acc: 0.9772     \n",
      "Epoch 10/10\n",
      "60000/60000 [==============================] - 1s - loss: 0.0680 - acc: 0.9794     \n",
      "Epoch 1/10\n",
      "60000/60000 [==============================] - 2s - loss: 0.4034 - acc: 0.8766     \n",
      "Epoch 2/10\n",
      "60000/60000 [==============================] - 1s - loss: 0.2195 - acc: 0.9336     \n",
      "Epoch 3/10\n",
      "60000/60000 [==============================] - 2s - loss: 0.1695 - acc: 0.9486     \n",
      "Epoch 4/10\n",
      "60000/60000 [==============================] - 2s - loss: 0.1416 - acc: 0.9566     \n",
      "Epoch 5/10\n",
      "60000/60000 [==============================] - 2s - loss: 0.1227 - acc: 0.9616     \n",
      "Epoch 6/10\n",
      "60000/60000 [==============================] - 1s - loss: 0.1097 - acc: 0.9661     \n",
      "Epoch 7/10\n",
      "60000/60000 [==============================] - 2s - loss: 0.0999 - acc: 0.9698     \n",
      "Epoch 8/10\n",
      "60000/60000 [==============================] - 1s - loss: 0.0917 - acc: 0.9719     \n",
      "Epoch 9/10\n",
      "60000/60000 [==============================] - 1s - loss: 0.0826 - acc: 0.9744     \n",
      "Epoch 10/10\n",
      "60000/60000 [==============================] - 1s - loss: 0.0776 - acc: 0.9757     \n",
      "Epoch 1/10\n",
      "60000/60000 [==============================] - 1s - loss: 0.4336 - acc: 0.8725     \n",
      "Epoch 2/10\n",
      "60000/60000 [==============================] - 1s - loss: 0.2185 - acc: 0.9353     \n",
      "Epoch 3/10\n",
      "60000/60000 [==============================] - 1s - loss: 0.1721 - acc: 0.9485     \n",
      "Epoch 4/10\n",
      "60000/60000 [==============================] - 1s - loss: 0.1457 - acc: 0.9560     \n",
      "Epoch 5/10\n",
      "60000/60000 [==============================] - 1s - loss: 0.1265 - acc: 0.9612     \n",
      "Epoch 6/10\n",
      "60000/60000 [==============================] - 1s - loss: 0.1114 - acc: 0.9665     \n",
      "Epoch 7/10\n",
      "60000/60000 [==============================] - 1s - loss: 0.1004 - acc: 0.9694     \n",
      "Epoch 8/10\n",
      "60000/60000 [==============================] - 1s - loss: 0.0938 - acc: 0.9716     \n",
      "Epoch 9/10\n",
      "60000/60000 [==============================] - 1s - loss: 0.0851 - acc: 0.9743     \n",
      "Epoch 10/10\n",
      "60000/60000 [==============================] - 1s - loss: 0.0778 - acc: 0.9752     \n",
      "Epoch 1/10\n",
      "60000/60000 [==============================] - 1s - loss: 0.4928 - acc: 0.8549     \n",
      "Epoch 2/10\n",
      "60000/60000 [==============================] - 1s - loss: 0.3900 - acc: 0.8899     \n",
      "Epoch 3/10\n",
      "60000/60000 [==============================] - 1s - loss: 0.3680 - acc: 0.8958     \n",
      "Epoch 4/10\n",
      "60000/60000 [==============================] - 1s - loss: 0.3516 - acc: 0.9001     \n",
      "Epoch 5/10\n",
      "60000/60000 [==============================] - 1s - loss: 0.3428 - acc: 0.9039     \n",
      "Epoch 6/10\n",
      "60000/60000 [==============================] - 1s - loss: 0.3315 - acc: 0.9074     \n",
      "Epoch 7/10\n",
      "60000/60000 [==============================] - 1s - loss: 0.3297 - acc: 0.9072     \n",
      "Epoch 8/10\n",
      "60000/60000 [==============================] - 1s - loss: 0.3244 - acc: 0.9088     \n",
      "Epoch 9/10\n",
      "60000/60000 [==============================] - 1s - loss: 0.3206 - acc: 0.9101     \n",
      "Epoch 10/10\n",
      "60000/60000 [==============================] - 1s - loss: 0.3171 - acc: 0.9099     \n",
      "Epoch 1/10\n",
      "60000/60000 [==============================] - 1s - loss: 0.5964 - acc: 0.8301     \n",
      "Epoch 2/10\n",
      "60000/60000 [==============================] - 1s - loss: 0.4268 - acc: 0.8805     \n",
      "Epoch 3/10\n",
      "60000/60000 [==============================] - 1s - loss: 0.3893 - acc: 0.8914     \n",
      "Epoch 4/10\n",
      "60000/60000 [==============================] - 1s - loss: 0.3642 - acc: 0.8970     \n",
      "Epoch 5/10\n",
      "60000/60000 [==============================] - 1s - loss: 0.3502 - acc: 0.9021     \n",
      "Epoch 6/10\n",
      "60000/60000 [==============================] - 1s - loss: 0.3375 - acc: 0.9051     \n",
      "Epoch 7/10\n",
      "60000/60000 [==============================] - 1s - loss: 0.3282 - acc: 0.9078     \n",
      "Epoch 8/10\n",
      "60000/60000 [==============================] - 1s - loss: 0.3248 - acc: 0.9075     \n",
      "Epoch 9/10\n",
      "60000/60000 [==============================] - 1s - loss: 0.3199 - acc: 0.9101     \n",
      "Epoch 10/10\n",
      "60000/60000 [==============================] - 1s - loss: nan - acc: 0.4174     \n"
     ]
    }
   ],
   "source": [
    "compare_hist = []\n",
    "for activation in [['relu', 'relu', 'softmax'], \n",
    "                   ['relu', 'relu', 'sigmoid'], \n",
    "                   ['softplus', 'softplus', 'softmax'], \n",
    "                   ['softplus', 'softplus', 'sigmoid'],\n",
    "                   ['tanh', 'tanh', 'softmax'],\n",
    "                   ['tanh', 'tanh', 'sigmoid'],\n",
    "                   ['linear', 'linear', 'softmax'],\n",
    "                   ['linear', 'linear', 'sigmoid']]:\n",
    "    model = Sequential()\n",
    "\n",
    "    model.add(Dense(784, init='zero', input_shape=(784,)))\n",
    "    model.add(Activation(activation[0]))                \n",
    "    model.add(Dropout(0.3))   \n",
    "\n",
    "    model.add(Dense(200))\n",
    "    model.add(Activation(activation[1]))\n",
    "    model.add(Dropout(0.3))\n",
    "\n",
    "    model.add(Dense(10))\n",
    "    model.add(Activation(activation[2]))\n",
    "\n",
    "    model.compile(loss='categorical_crossentropy', optimizer='rmsprop', metrics=['accuracy'])\n",
    "\n",
    "    hist = model.fit(X_train, Y_train,\n",
    "              batch_size=200, nb_epoch=10, verbose=1)\n",
    "    compare_hist.append(hist.history)"
   ]
  },
  {
   "cell_type": "code",
   "execution_count": 6,
   "metadata": {
    "collapsed": false
   },
   "outputs": [
    {
     "name": "stderr",
     "output_type": "stream",
     "text": [
      "/usr/local/lib/python2.7/site-packages/Keras-1.0.8-py2.7.egg/keras/models.py:644: UserWarning: The \"show_accuracy\" argument is deprecated, instead you should pass the \"accuracy\" metric to the model at compile time:\n",
      "`model.compile(optimizer, loss, metrics=[\"accuracy\"])`\n",
      "  warnings.warn('The \"show_accuracy\" argument is deprecated, '\n"
     ]
    },
    {
     "name": "stdout",
     "output_type": "stream",
     "text": [
      "Test score: nan\n",
      "Test accuracy: 0.098\n"
     ]
    }
   ],
   "source": [
    "score = model.evaluate(X_test, Y_test,\n",
    "                       show_accuracy=True, verbose=0)\n",
    "print('Test score:', score[0])\n",
    "print('Test accuracy:', score[1])"
   ]
  },
  {
   "cell_type": "code",
   "execution_count": 7,
   "metadata": {
    "collapsed": false
   },
   "outputs": [
    {
     "data": {
      "text/html": [
       "\n",
       "\n",
       "    <div class=\"bk-root\">\n",
       "        <div class=\"plotdiv\" id=\"70c51a19-be7b-4048-9a7e-eb432f78ec24\"></div>\n",
       "    </div>\n",
       "<script type=\"text/javascript\">\n",
       "  \n",
       "  (function(global) {\n",
       "    function now() {\n",
       "      return new Date();\n",
       "    }\n",
       "  \n",
       "    var force = \"\";\n",
       "  \n",
       "    if (typeof (window._bokeh_onload_callbacks) === \"undefined\" || force !== \"\") {\n",
       "      window._bokeh_onload_callbacks = [];\n",
       "      window._bokeh_is_loading = undefined;\n",
       "    }\n",
       "  \n",
       "  \n",
       "    \n",
       "    if (typeof (window._bokeh_timeout) === \"undefined\" || force !== \"\") {\n",
       "      window._bokeh_timeout = Date.now() + 0;\n",
       "      window._bokeh_failed_load = false;\n",
       "    }\n",
       "  \n",
       "    var NB_LOAD_WARNING = {'data': {'text/html':\n",
       "       \"<div style='background-color: #fdd'>\\n\"+\n",
       "       \"<p>\\n\"+\n",
       "       \"BokehJS does not appear to have successfully loaded. If loading BokehJS from CDN, this \\n\"+\n",
       "       \"may be due to a slow or bad network connection. Possible fixes:\\n\"+\n",
       "       \"</p>\\n\"+\n",
       "       \"<ul>\\n\"+\n",
       "       \"<li>re-rerun `output_notebook()` to attempt to load from CDN again, or</li>\\n\"+\n",
       "       \"<li>use INLINE resources instead, as so:</li>\\n\"+\n",
       "       \"</ul>\\n\"+\n",
       "       \"<code>\\n\"+\n",
       "       \"from bokeh.resources import INLINE\\n\"+\n",
       "       \"output_notebook(resources=INLINE)\\n\"+\n",
       "       \"</code>\\n\"+\n",
       "       \"</div>\"}};\n",
       "  \n",
       "    function display_loaded() {\n",
       "      if (window.Bokeh !== undefined) {\n",
       "        Bokeh.$(\"#70c51a19-be7b-4048-9a7e-eb432f78ec24\").text(\"BokehJS successfully loaded.\");\n",
       "      } else if (Date.now() < window._bokeh_timeout) {\n",
       "        setTimeout(display_loaded, 100)\n",
       "      }\n",
       "    }\n",
       "  \n",
       "    function run_callbacks() {\n",
       "      window._bokeh_onload_callbacks.forEach(function(callback) { callback() });\n",
       "      delete window._bokeh_onload_callbacks\n",
       "      console.info(\"Bokeh: all callbacks have finished\");\n",
       "    }\n",
       "  \n",
       "    function load_libs(js_urls, callback) {\n",
       "      window._bokeh_onload_callbacks.push(callback);\n",
       "      if (window._bokeh_is_loading > 0) {\n",
       "        console.log(\"Bokeh: BokehJS is being loaded, scheduling callback at\", now());\n",
       "        return null;\n",
       "      }\n",
       "      if (js_urls == null || js_urls.length === 0) {\n",
       "        run_callbacks();\n",
       "        return null;\n",
       "      }\n",
       "      console.log(\"Bokeh: BokehJS not loaded, scheduling load and callback at\", now());\n",
       "      window._bokeh_is_loading = js_urls.length;\n",
       "      for (var i = 0; i < js_urls.length; i++) {\n",
       "        var url = js_urls[i];\n",
       "        var s = document.createElement('script');\n",
       "        s.src = url;\n",
       "        s.async = false;\n",
       "        s.onreadystatechange = s.onload = function() {\n",
       "          window._bokeh_is_loading--;\n",
       "          if (window._bokeh_is_loading === 0) {\n",
       "            console.log(\"Bokeh: all BokehJS libraries loaded\");\n",
       "            run_callbacks()\n",
       "          }\n",
       "        };\n",
       "        s.onerror = function() {\n",
       "          console.warn(\"failed to load library \" + url);\n",
       "        };\n",
       "        console.log(\"Bokeh: injecting script tag for BokehJS library: \", url);\n",
       "        document.getElementsByTagName(\"head\")[0].appendChild(s);\n",
       "      }\n",
       "    };var element = document.getElementById(\"70c51a19-be7b-4048-9a7e-eb432f78ec24\");\n",
       "    if (element == null) {\n",
       "      console.log(\"Bokeh: ERROR: autoload.js configured with elementid '70c51a19-be7b-4048-9a7e-eb432f78ec24' but no matching script tag was found. \")\n",
       "      return false;\n",
       "    }\n",
       "  \n",
       "    var js_urls = [];\n",
       "  \n",
       "    var inline_js = [\n",
       "      function(Bokeh) {\n",
       "        Bokeh.$(function() {\n",
       "            var docs_json = {\"befe0165-d7cc-4a54-93b2-4b909bdbd632\":{\"roots\":{\"references\":[{\"attributes\":{\"line_color\":{\"value\":\"blue\"},\"line_dash\":[6],\"line_width\":{\"value\":3},\"x\":{\"field\":\"x\"},\"y\":{\"field\":\"y\"}},\"id\":\"b26cfb26-9186-4811-ab2e-12538683d696\",\"type\":\"Line\"},{\"attributes\":{\"callback\":null,\"plot\":{\"id\":\"407987c5-ac05-485c-bfc0-ecc014b44b3b\",\"subtype\":\"Figure\",\"type\":\"Plot\"}},\"id\":\"93e81da7-91ad-42b3-93d0-38c426edc0f7\",\"type\":\"HoverTool\"},{\"attributes\":{\"line_color\":{\"value\":\"orange\"},\"line_dash\":[6],\"line_width\":{\"value\":3},\"x\":{\"field\":\"x\"},\"y\":{\"field\":\"y\"}},\"id\":\"d8a11ce7-5092-4d1e-8d1b-bed86190ffc2\",\"type\":\"Line\"},{\"attributes\":{\"formatter\":{\"id\":\"cda15326-0794-4b67-acb1-96328cbf6239\",\"type\":\"BasicTickFormatter\"},\"plot\":{\"id\":\"407987c5-ac05-485c-bfc0-ecc014b44b3b\",\"subtype\":\"Figure\",\"type\":\"Plot\"},\"ticker\":{\"id\":\"20a64498-912f-4b3c-a283-1be4a3f9938c\",\"type\":\"BasicTicker\"}},\"id\":\"53c5d664-c9b8-43d2-bb8c-860e091efe82\",\"type\":\"LinearAxis\"},{\"attributes\":{\"callback\":null},\"id\":\"d35e552c-6c9e-4c4e-94ef-e6e7becbc152\",\"type\":\"DataRange1d\"},{\"attributes\":{\"line_color\":{\"value\":\"pink\"},\"line_width\":{\"value\":3},\"x\":{\"field\":\"x\"},\"y\":{\"field\":\"y\"}},\"id\":\"95c8ed60-a7d9-4288-a012-91399fcd2b34\",\"type\":\"Line\"},{\"attributes\":{\"data_source\":{\"id\":\"49cfd536-ccd2-40a8-b598-35236859e15d\",\"type\":\"ColumnDataSource\"},\"glyph\":{\"id\":\"da7ff8e4-92f0-4255-ba8d-c994387caf6d\",\"type\":\"Line\"},\"hover_glyph\":null,\"nonselection_glyph\":{\"id\":\"8518800b-0b92-4e7e-b3f6-1ace978b2f43\",\"type\":\"Line\"},\"selection_glyph\":null},\"id\":\"41c1ba2a-10d1-4f73-b8ab-366b3411c6c4\",\"type\":\"GlyphRenderer\"},{\"attributes\":{\"callback\":null,\"column_names\":[\"y\",\"x\"],\"data\":{\"x\":[0,1,2,3,4,5,6,7,8,9],\"y\":[0.8548500000188748,0.8898999979098637,0.8957666643460591,0.9000999983151754,0.9038833322127661,0.9073833348353704,0.907166665593783,0.9088333326578141,0.9101166659593583,0.9099166669448217]}},\"id\":\"21da5a26-c8e1-4805-98ef-62e9d28954a0\",\"type\":\"ColumnDataSource\"},{\"attributes\":{\"items\":[{\"id\":\"e76cb7da-eb70-4e51-83b6-009757b83fc5\",\"type\":\"LegendItem\"},{\"id\":\"e490b936-6d0b-40cd-806b-2d398868da4a\",\"type\":\"LegendItem\"},{\"id\":\"b741b548-d580-4941-b92d-568dadf415ce\",\"type\":\"LegendItem\"},{\"id\":\"35cec879-9e70-47ac-954f-37db2d5a4093\",\"type\":\"LegendItem\"}],\"location\":\"bottom_right\",\"plot\":{\"id\":\"407987c5-ac05-485c-bfc0-ecc014b44b3b\",\"subtype\":\"Figure\",\"type\":\"Plot\"}},\"id\":\"3619c645-6c15-4f41-b852-660cbcec3a66\",\"type\":\"Legend\"},{\"attributes\":{\"line_alpha\":{\"value\":0.1},\"line_color\":{\"value\":\"#1f77b4\"},\"line_width\":{\"value\":3},\"x\":{\"field\":\"x\"},\"y\":{\"field\":\"y\"}},\"id\":\"7d779d04-92ee-4b40-86f4-fb6ae78f7460\",\"type\":\"Line\"},{\"attributes\":{\"data_source\":{\"id\":\"21da5a26-c8e1-4805-98ef-62e9d28954a0\",\"type\":\"ColumnDataSource\"},\"glyph\":{\"id\":\"d8a11ce7-5092-4d1e-8d1b-bed86190ffc2\",\"type\":\"Line\"},\"hover_glyph\":null,\"nonselection_glyph\":{\"id\":\"5b73602f-8099-4396-9597-a8fd65a0c06d\",\"type\":\"Line\"},\"selection_glyph\":null},\"id\":\"0e0a0b02-5669-4578-8c23-9379a1e6846b\",\"type\":\"GlyphRenderer\"},{\"attributes\":{\"dimension\":1,\"plot\":{\"id\":\"407987c5-ac05-485c-bfc0-ecc014b44b3b\",\"subtype\":\"Figure\",\"type\":\"Plot\"},\"ticker\":{\"id\":\"20a64498-912f-4b3c-a283-1be4a3f9938c\",\"type\":\"BasicTicker\"}},\"id\":\"3aac7803-8c19-45e3-b2c7-9472100df5ad\",\"type\":\"Grid\"},{\"attributes\":{\"data_source\":{\"id\":\"efaccdad-e327-4fb8-99ec-3e28f4c27f72\",\"type\":\"ColumnDataSource\"},\"glyph\":{\"id\":\"2b56597b-625a-46cb-9926-845299582c47\",\"type\":\"Line\"},\"hover_glyph\":null,\"nonselection_glyph\":{\"id\":\"9f5380e3-225a-445a-88bc-3b8c5d8a2ed9\",\"type\":\"Line\"},\"selection_glyph\":null},\"id\":\"8173189d-95da-4e05-bd0c-944069b51c74\",\"type\":\"GlyphRenderer\"},{\"attributes\":{},\"id\":\"cda15326-0794-4b67-acb1-96328cbf6239\",\"type\":\"BasicTickFormatter\"},{\"attributes\":{\"data_source\":{\"id\":\"e4b7edb8-dbce-4304-a836-f4d8776bacae\",\"type\":\"ColumnDataSource\"},\"glyph\":{\"id\":\"fc1ebe1e-3ed1-4c11-8dfe-081e5ed87ea6\",\"type\":\"Line\"},\"hover_glyph\":null,\"nonselection_glyph\":{\"id\":\"f587dd67-2b9b-480d-8282-b753d11b9b5a\",\"type\":\"Line\"},\"selection_glyph\":null},\"id\":\"b8c24b69-ee7a-499b-9bc3-98da3245a320\",\"type\":\"GlyphRenderer\"},{\"attributes\":{\"label\":{\"value\":\"tanh\"},\"renderers\":[{\"id\":\"03264748-7666-43f1-85a4-e79307b5c9d1\",\"type\":\"GlyphRenderer\"}]},\"id\":\"b741b548-d580-4941-b92d-568dadf415ce\",\"type\":\"LegendItem\"},{\"attributes\":{\"label\":{\"value\":\"linear\"},\"renderers\":[{\"id\":\"0e0a0b02-5669-4578-8c23-9379a1e6846b\",\"type\":\"GlyphRenderer\"}]},\"id\":\"35cec879-9e70-47ac-954f-37db2d5a4093\",\"type\":\"LegendItem\"},{\"attributes\":{\"formatter\":{\"id\":\"081a0958-8ae1-48af-bb8e-42e76279207a\",\"type\":\"BasicTickFormatter\"},\"plot\":{\"id\":\"407987c5-ac05-485c-bfc0-ecc014b44b3b\",\"subtype\":\"Figure\",\"type\":\"Plot\"},\"ticker\":{\"id\":\"51f43b5f-3bcb-40db-9d3e-1e204a7adc0e\",\"type\":\"BasicTicker\"}},\"id\":\"ba9f4bbc-c501-4fd3-a58b-db028320e57b\",\"type\":\"LinearAxis\"},{\"attributes\":{\"line_color\":{\"value\":\"blue\"},\"line_width\":{\"value\":3},\"x\":{\"field\":\"x\"},\"y\":{\"field\":\"y\"}},\"id\":\"2531a3c8-3027-4808-a925-965a27d3ad74\",\"type\":\"Line\"},{\"attributes\":{\"label\":{\"value\":\"softplus\"},\"renderers\":[{\"id\":\"03bf321a-cf47-4a5c-9c88-f2904b80060d\",\"type\":\"GlyphRenderer\"}]},\"id\":\"e490b936-6d0b-40cd-806b-2d398868da4a\",\"type\":\"LegendItem\"},{\"attributes\":{},\"id\":\"51f43b5f-3bcb-40db-9d3e-1e204a7adc0e\",\"type\":\"BasicTicker\"},{\"attributes\":{\"active_drag\":\"auto\",\"active_scroll\":\"auto\",\"active_tap\":\"auto\",\"tools\":[{\"id\":\"93e81da7-91ad-42b3-93d0-38c426edc0f7\",\"type\":\"HoverTool\"}]},\"id\":\"2be284f5-80ae-436d-abbc-b4337559b5fd\",\"type\":\"Toolbar\"},{\"attributes\":{\"line_color\":{\"value\":\"pink\"},\"line_dash\":[6],\"line_width\":{\"value\":3},\"x\":{\"field\":\"x\"},\"y\":{\"field\":\"y\"}},\"id\":\"da7ff8e4-92f0-4255-ba8d-c994387caf6d\",\"type\":\"Line\"},{\"attributes\":{},\"id\":\"20a64498-912f-4b3c-a283-1be4a3f9938c\",\"type\":\"BasicTicker\"},{\"attributes\":{\"line_alpha\":{\"value\":0.1},\"line_color\":{\"value\":\"#1f77b4\"},\"line_dash\":[6],\"line_width\":{\"value\":3},\"x\":{\"field\":\"x\"},\"y\":{\"field\":\"y\"}},\"id\":\"8518800b-0b92-4e7e-b3f6-1ace978b2f43\",\"type\":\"Line\"},{\"attributes\":{\"plot\":null,\"text\":null},\"id\":\"7730a4a3-33b4-4ae0-9468-57f2bf663f9c\",\"type\":\"Title\"},{\"attributes\":{\"plot\":{\"id\":\"407987c5-ac05-485c-bfc0-ecc014b44b3b\",\"subtype\":\"Figure\",\"type\":\"Plot\"},\"ticker\":{\"id\":\"51f43b5f-3bcb-40db-9d3e-1e204a7adc0e\",\"type\":\"BasicTicker\"}},\"id\":\"e5ba133f-06f2-4beb-9af7-25c26a9717df\",\"type\":\"Grid\"},{\"attributes\":{\"data_source\":{\"id\":\"65b0b464-0bdb-4176-8de1-d5e512c04363\",\"type\":\"ColumnDataSource\"},\"glyph\":{\"id\":\"b26cfb26-9186-4811-ab2e-12538683d696\",\"type\":\"Line\"},\"hover_glyph\":null,\"nonselection_glyph\":{\"id\":\"f271c0ff-d1cc-400e-b0d0-30eb3259f3d0\",\"type\":\"Line\"},\"selection_glyph\":null},\"id\":\"f18005b2-6887-4c24-8b5f-4bc10bacba85\",\"type\":\"GlyphRenderer\"},{\"attributes\":{\"callback\":null,\"column_names\":[\"y\",\"x\"],\"data\":{\"x\":[0,1,2,3,4,5,6,7,8,9],\"y\":[0.8724833340197802,0.9352666662136714,0.9485499968131383,0.9559833312034607,0.9612333299716314,0.9665166693925857,0.9694000045458476,0.9715500068664551,0.9743333415190378,0.9752000087499618]}},\"id\":\"b3b01667-20be-43ad-a1b9-5261e202638b\",\"type\":\"ColumnDataSource\"},{\"attributes\":{\"line_color\":{\"value\":\"red\"},\"line_dash\":[6],\"line_width\":{\"value\":3},\"x\":{\"field\":\"x\"},\"y\":{\"field\":\"y\"}},\"id\":\"fc1ebe1e-3ed1-4c11-8dfe-081e5ed87ea6\",\"type\":\"Line\"},{\"attributes\":{\"line_color\":{\"value\":\"red\"},\"line_width\":{\"value\":3},\"x\":{\"field\":\"x\"},\"y\":{\"field\":\"y\"}},\"id\":\"2b56597b-625a-46cb-9926-845299582c47\",\"type\":\"Line\"},{\"attributes\":{},\"id\":\"081a0958-8ae1-48af-bb8e-42e76279207a\",\"type\":\"BasicTickFormatter\"},{\"attributes\":{\"callback\":null},\"id\":\"8389c9b7-d237-4cc3-ad26-31f6e17230fe\",\"type\":\"DataRange1d\"},{\"attributes\":{\"callback\":null,\"column_names\":[\"y\",\"x\"],\"data\":{\"x\":[0,1,2,3,4,5,6,7,8,9],\"y\":[0.9004333325723807,0.9598833312590916,0.9710833406448365,0.9766000096003215,0.9808666783571244,0.9834166798988978,0.9852166783809662,0.9872333445151646,0.9876666776339214,0.9892500094572703]}},\"id\":\"e4b7edb8-dbce-4304-a836-f4d8776bacae\",\"type\":\"ColumnDataSource\"},{\"attributes\":{\"callback\":null,\"column_names\":[\"y\",\"x\"],\"data\":{\"x\":[0,1,2,3,4,5,6,7,8,9],\"y\":[0.7684999983261029,0.9169333340724309,0.943299997250239,0.9559666617711385,0.963366666038831,0.9680666714906693,0.9718833394845326,0.9753666764497757,0.977166678706805,0.9794166791439056]}},\"id\":\"16b0a3f9-8963-4287-8154-bcc95820eae4\",\"type\":\"ColumnDataSource\"},{\"attributes\":{\"callback\":null,\"column_names\":[\"y\",\"x\"],\"data\":{\"x\":[0,1,2,3,4,5,6,7,8,9],\"y\":[0.8765833322703839,0.9335833336909612,0.9486166618267695,0.9565666633844375,0.9616499994198481,0.9660666676362356,0.9697500044107437,0.9719166735808055,0.9743833426634471,0.9757166777054469]}},\"id\":\"49cfd536-ccd2-40a8-b598-35236859e15d\",\"type\":\"ColumnDataSource\"},{\"attributes\":{\"data_source\":{\"id\":\"16b0a3f9-8963-4287-8154-bcc95820eae4\",\"type\":\"ColumnDataSource\"},\"glyph\":{\"id\":\"2531a3c8-3027-4808-a925-965a27d3ad74\",\"type\":\"Line\"},\"hover_glyph\":null,\"nonselection_glyph\":{\"id\":\"c5f8b4f2-7cec-4fe0-999f-51c1445bb83d\",\"type\":\"Line\"},\"selection_glyph\":null},\"id\":\"03bf321a-cf47-4a5c-9c88-f2904b80060d\",\"type\":\"GlyphRenderer\"},{\"attributes\":{\"line_alpha\":{\"value\":0.1},\"line_color\":{\"value\":\"#1f77b4\"},\"line_width\":{\"value\":3},\"x\":{\"field\":\"x\"},\"y\":{\"field\":\"y\"}},\"id\":\"9f5380e3-225a-445a-88bc-3b8c5d8a2ed9\",\"type\":\"Line\"},{\"attributes\":{\"below\":[{\"id\":\"ba9f4bbc-c501-4fd3-a58b-db028320e57b\",\"type\":\"LinearAxis\"}],\"left\":[{\"id\":\"53c5d664-c9b8-43d2-bb8c-860e091efe82\",\"type\":\"LinearAxis\"}],\"plot_height\":400,\"plot_width\":800,\"renderers\":[{\"id\":\"ba9f4bbc-c501-4fd3-a58b-db028320e57b\",\"type\":\"LinearAxis\"},{\"id\":\"e5ba133f-06f2-4beb-9af7-25c26a9717df\",\"type\":\"Grid\"},{\"id\":\"53c5d664-c9b8-43d2-bb8c-860e091efe82\",\"type\":\"LinearAxis\"},{\"id\":\"3aac7803-8c19-45e3-b2c7-9472100df5ad\",\"type\":\"Grid\"},{\"id\":\"b8c24b69-ee7a-499b-9bc3-98da3245a320\",\"type\":\"GlyphRenderer\"},{\"id\":\"3619c645-6c15-4f41-b852-660cbcec3a66\",\"type\":\"Legend\"},{\"id\":\"8173189d-95da-4e05-bd0c-944069b51c74\",\"type\":\"GlyphRenderer\"},{\"id\":\"f18005b2-6887-4c24-8b5f-4bc10bacba85\",\"type\":\"GlyphRenderer\"},{\"id\":\"03bf321a-cf47-4a5c-9c88-f2904b80060d\",\"type\":\"GlyphRenderer\"},{\"id\":\"41c1ba2a-10d1-4f73-b8ab-366b3411c6c4\",\"type\":\"GlyphRenderer\"},{\"id\":\"03264748-7666-43f1-85a4-e79307b5c9d1\",\"type\":\"GlyphRenderer\"},{\"id\":\"0e0a0b02-5669-4578-8c23-9379a1e6846b\",\"type\":\"GlyphRenderer\"}],\"title\":{\"id\":\"7730a4a3-33b4-4ae0-9468-57f2bf663f9c\",\"type\":\"Title\"},\"tool_events\":{\"id\":\"873e6185-7b44-46b6-9296-8871d78cd71b\",\"type\":\"ToolEvents\"},\"toolbar\":{\"id\":\"2be284f5-80ae-436d-abbc-b4337559b5fd\",\"type\":\"Toolbar\"},\"x_range\":{\"id\":\"d35e552c-6c9e-4c4e-94ef-e6e7becbc152\",\"type\":\"DataRange1d\"},\"y_range\":{\"id\":\"8389c9b7-d237-4cc3-ad26-31f6e17230fe\",\"type\":\"DataRange1d\"}},\"id\":\"407987c5-ac05-485c-bfc0-ecc014b44b3b\",\"subtype\":\"Figure\",\"type\":\"Plot\"},{\"attributes\":{},\"id\":\"873e6185-7b44-46b6-9296-8871d78cd71b\",\"type\":\"ToolEvents\"},{\"attributes\":{\"label\":{\"value\":\"relu\"},\"renderers\":[{\"id\":\"8173189d-95da-4e05-bd0c-944069b51c74\",\"type\":\"GlyphRenderer\"}]},\"id\":\"e76cb7da-eb70-4e51-83b6-009757b83fc5\",\"type\":\"LegendItem\"},{\"attributes\":{\"data_source\":{\"id\":\"b3b01667-20be-43ad-a1b9-5261e202638b\",\"type\":\"ColumnDataSource\"},\"glyph\":{\"id\":\"95c8ed60-a7d9-4288-a012-91399fcd2b34\",\"type\":\"Line\"},\"hover_glyph\":null,\"nonselection_glyph\":{\"id\":\"7d779d04-92ee-4b40-86f4-fb6ae78f7460\",\"type\":\"Line\"},\"selection_glyph\":null},\"id\":\"03264748-7666-43f1-85a4-e79307b5c9d1\",\"type\":\"GlyphRenderer\"},{\"attributes\":{\"callback\":null,\"column_names\":[\"y\",\"x\"],\"data\":{\"x\":[0,1,2,3,4,5,6,7,8,9],\"y\":[0.7963999999811252,0.9197833361228307,0.9439499974250793,0.955233328739802,0.9638666651646296,0.9683166690667471,0.9716500079631806,0.9747000086307526,0.9771666783094406,0.978583344022433]}},\"id\":\"65b0b464-0bdb-4176-8de1-d5e512c04363\",\"type\":\"ColumnDataSource\"},{\"attributes\":{\"callback\":null,\"column_names\":[\"y\",\"x\"],\"data\":{\"x\":[0,1,2,3,4,5,6,7,8,9],\"y\":[0.8851333328088125,0.9576666651169459,0.969733338356018,0.9754500101010005,0.9800833461682001,0.982350013256073,0.984816680153211,0.9866666783889134,0.9870500115553538,0.9890333429972331]}},\"id\":\"efaccdad-e327-4fb8-99ec-3e28f4c27f72\",\"type\":\"ColumnDataSource\"},{\"attributes\":{\"line_alpha\":{\"value\":0.1},\"line_color\":{\"value\":\"#1f77b4\"},\"line_dash\":[6],\"line_width\":{\"value\":3},\"x\":{\"field\":\"x\"},\"y\":{\"field\":\"y\"}},\"id\":\"f587dd67-2b9b-480d-8282-b753d11b9b5a\",\"type\":\"Line\"},{\"attributes\":{\"line_alpha\":{\"value\":0.1},\"line_color\":{\"value\":\"#1f77b4\"},\"line_dash\":[6],\"line_width\":{\"value\":3},\"x\":{\"field\":\"x\"},\"y\":{\"field\":\"y\"}},\"id\":\"5b73602f-8099-4396-9597-a8fd65a0c06d\",\"type\":\"Line\"},{\"attributes\":{\"line_alpha\":{\"value\":0.1},\"line_color\":{\"value\":\"#1f77b4\"},\"line_width\":{\"value\":3},\"x\":{\"field\":\"x\"},\"y\":{\"field\":\"y\"}},\"id\":\"c5f8b4f2-7cec-4fe0-999f-51c1445bb83d\",\"type\":\"Line\"},{\"attributes\":{\"line_alpha\":{\"value\":0.1},\"line_color\":{\"value\":\"#1f77b4\"},\"line_dash\":[6],\"line_width\":{\"value\":3},\"x\":{\"field\":\"x\"},\"y\":{\"field\":\"y\"}},\"id\":\"f271c0ff-d1cc-400e-b0d0-30eb3259f3d0\",\"type\":\"Line\"}],\"root_ids\":[\"407987c5-ac05-485c-bfc0-ecc014b44b3b\"]},\"title\":\"Bokeh Application\",\"version\":\"0.12.3\"}};\n",
       "            var render_items = [{\"docid\":\"befe0165-d7cc-4a54-93b2-4b909bdbd632\",\"elementid\":\"70c51a19-be7b-4048-9a7e-eb432f78ec24\",\"modelid\":\"407987c5-ac05-485c-bfc0-ecc014b44b3b\"}];\n",
       "            \n",
       "            Bokeh.embed.embed_items(docs_json, render_items);\n",
       "        });\n",
       "      },\n",
       "      function(Bokeh) {\n",
       "      }\n",
       "    ];\n",
       "  \n",
       "    function run_inline_js() {\n",
       "      \n",
       "      if ((window.Bokeh !== undefined) || (force === \"1\")) {\n",
       "        for (var i = 0; i < inline_js.length; i++) {\n",
       "          inline_js[i](window.Bokeh);\n",
       "        }if (force === \"1\") {\n",
       "          display_loaded();\n",
       "        }} else if (Date.now() < window._bokeh_timeout) {\n",
       "        setTimeout(run_inline_js, 100);\n",
       "      } else if (!window._bokeh_failed_load) {\n",
       "        console.log(\"Bokeh: BokehJS failed to load within specified timeout.\");\n",
       "        window._bokeh_failed_load = true;\n",
       "      } else if (!force) {\n",
       "        var cell = $(\"#70c51a19-be7b-4048-9a7e-eb432f78ec24\").parents('.cell').data().cell;\n",
       "        cell.output_area.append_execute_result(NB_LOAD_WARNING)\n",
       "      }\n",
       "  \n",
       "    }\n",
       "  \n",
       "    if (window._bokeh_is_loading === 0) {\n",
       "      console.log(\"Bokeh: BokehJS loaded, going straight to plotting\");\n",
       "      run_inline_js();\n",
       "    } else {\n",
       "      load_libs(js_urls, function() {\n",
       "        console.log(\"Bokeh: BokehJS plotting callback run at\", now());\n",
       "        run_inline_js();\n",
       "      });\n",
       "    }\n",
       "  }(this));\n",
       "</script>"
      ]
     },
     "metadata": {},
     "output_type": "display_data"
    }
   ],
   "source": [
    "p = figure(plot_width=800, plot_height=400, tools=['hover'])\n",
    "# add a line renderer\n",
    "p.line(range(len(compare_hist[0]['acc'])), compare_hist[0]['acc'], line_width=3, color='red', line_dash='dashed')\n",
    "p.line(range(len(compare_hist[1]['acc'])), compare_hist[1]['acc'], line_width=3, color='red', legend='relu')\n",
    "p.line(range(len(compare_hist[2]['acc'])), compare_hist[2]['acc'], line_width=3, color='blue', line_dash='dashed')\n",
    "p.line(range(len(compare_hist[3]['acc'])), compare_hist[3]['acc'], line_width=3, color='blue', legend='softplus')\n",
    "p.line(range(len(compare_hist[4]['acc'])), compare_hist[4]['acc'], line_width=3, color='pink',  line_dash='dashed')\n",
    "p.line(range(len(compare_hist[5]['acc'])), compare_hist[5]['acc'], line_width=3, color='pink', legend='tanh')\n",
    "p.line(range(len(compare_hist[6]['acc'])), compare_hist[6]['acc'], line_width=3, color='orange',legend='linear', line_dash='dashed')\n",
    "#p.line(range(len(compare_hist[7]['acc'])), compare_hist[7]['acc'], line_width=2, color='orange', legend='linear')\n",
    "\n",
    "p.legend.location = 'bottom_right'\n",
    "show(p)"
   ]
  },
  {
   "cell_type": "code",
   "execution_count": 8,
   "metadata": {
    "collapsed": false
   },
   "outputs": [
    {
     "name": "stdout",
     "output_type": "stream",
     "text": [
      "Epoch 1/10\n",
      "60000/60000 [==============================] - 1s - loss: 0.5068 - acc: 0.8518     \n",
      "Epoch 2/10\n",
      "60000/60000 [==============================] - 1s - loss: 0.3886 - acc: 0.8896     \n",
      "Epoch 3/10\n",
      "60000/60000 [==============================] - 1s - loss: 0.3696 - acc: 0.8958     \n",
      "Epoch 4/10\n",
      "60000/60000 [==============================] - 1s - loss: 0.3532 - acc: 0.9007     \n",
      "Epoch 5/10\n",
      "60000/60000 [==============================] - 1s - loss: 0.3451 - acc: 0.9031     \n",
      "Epoch 6/10\n",
      "60000/60000 [==============================] - 1s - loss: 0.3325 - acc: 0.9064     \n",
      "Epoch 7/10\n",
      "60000/60000 [==============================] - 1s - loss: 0.3287 - acc: 0.9081     \n",
      "Epoch 8/10\n",
      "60000/60000 [==============================] - 1s - loss: 0.3216 - acc: 0.9101     \n",
      "Epoch 9/10\n",
      "60000/60000 [==============================] - 1s - loss: 0.3220 - acc: 0.9098     \n",
      "Epoch 10/10\n",
      "60000/60000 [==============================] - 1s - loss: 0.3181 - acc: 0.9106     \n",
      "Test score: 0.323055462244\n",
      "Test accuracy: 0.9077\n"
     ]
    }
   ],
   "source": [
    "linear_model = Sequential()\n",
    "\n",
    "linear_model.add(Dense(784, init='zero', input_shape=(784,)))\n",
    "linear_model.add(Activation('linear'))                \n",
    "linear_model.add(Dropout(0.3))   \n",
    "\n",
    "linear_model.add(Dense(200))\n",
    "linear_model.add(Activation('linear'))\n",
    "linear_model.add(Dropout(0.3))\n",
    "\n",
    "linear_model.add(Dense(10))\n",
    "linear_model.add(Activation('softmax'))\n",
    "\n",
    "linear_model.compile(loss='categorical_crossentropy', optimizer='rmsprop', metrics=['accuracy'])\n",
    "linear_model.fit(X_train, Y_train,\n",
    "              batch_size=200, nb_epoch=10, verbose=1)\n",
    "\n",
    "score = linear_model.evaluate(X_test, Y_test,\n",
    "                       show_accuracy=True, verbose=0)\n",
    "print('Test score:', score[0])\n",
    "print('Test accuracy:', score[1])"
   ]
  },
  {
   "cell_type": "code",
   "execution_count": 71,
   "metadata": {
    "collapsed": false
   },
   "outputs": [
    {
     "name": "stdout",
     "output_type": "stream",
     "text": [
      " 9952/10000 [============================>.] - ETA: 0s"
     ]
    }
   ],
   "source": [
    "# The predict_classes function outputs the highest probability class\n",
    "# according to the trained classifier for each input example.\n",
    "lin_predicted_classes = linear_model.predict_classes(X_test)\n",
    "\n",
    "# Check which items we got right / wrong\n",
    "correct_indices = np.nonzero(predicted_classes == y_test)[0]\n",
    "incorrect_indices = np.nonzero(predicted_classes != y_test)[0]"
   ]
  },
  {
   "cell_type": "code",
   "execution_count": 72,
   "metadata": {
    "collapsed": false
   },
   "outputs": [],
   "source": [
    "def plot_confusion(cm_norm, feature_names, title):\n",
    "    # plot confusion matrix\n",
    "    plt.figure(figsize=(4,3))\n",
    "    plt.imshow(cm_norm, interpolation='nearest', cmap=plt.cm.viridis)\n",
    "    plt.title(title)\n",
    "    plt.colorbar()\n",
    "    plt.tight_layout()\n",
    "    tick_marks = np.arange(len(set(feature_names)))\n",
    "    plt.xticks(tick_marks, set(feature_names), rotation = 90)\n",
    "    plt.yticks(tick_marks, set(feature_names))\n",
    "    plt.ylabel('True digit')\n",
    "    plt.xlabel('Predicted digit')\n",
    "    plt.show()"
   ]
  },
  {
   "cell_type": "code",
   "execution_count": 73,
   "metadata": {
    "collapsed": false
   },
   "outputs": [
    {
     "data": {
      "image/png": "[encoded data removed]",
      "text/plain": [
       "<matplotlib.figure.Figure at 0x7f1620eab690>"
      ]
     },
     "metadata": {},
     "output_type": "display_data"
    }
   ],
   "source": [
    "linear_conf_matrix = confusion_matrix(y_test, lin_predicted_classes)\n",
    "lin_cm_norm = linear_conf_matrix.astype(\"float\") / linear_conf_matrix.sum(axis=1)[:, np.newaxis]\n",
    "feature_names = range(0,10)\n",
    "\n",
    "plot_confusion(lin_cm_norm, feature_names, \"Confusion Matrix Model with linear activation\")"
   ]
  },
  {
   "cell_type": "code",
   "execution_count": 24,
   "metadata": {
    "collapsed": false
   },
   "outputs": [
    {
     "name": "stdout",
     "output_type": "stream",
     "text": [
      "Epoch 1/10\n",
      "60000/60000 [==============================] - 2s - loss: 0.3226 - acc: 0.9006     \n",
      "Epoch 2/10\n",
      "60000/60000 [==============================] - 2s - loss: 0.1315 - acc: 0.9604     \n",
      "Epoch 3/10\n",
      "60000/60000 [==============================] - 2s - loss: 0.0951 - acc: 0.9715     \n",
      "Epoch 4/10\n",
      "60000/60000 [==============================] - 2s - loss: 0.0751 - acc: 0.9770     \n",
      "Epoch 5/10\n",
      "60000/60000 [==============================] - 2s - loss: 0.0635 - acc: 0.9808     \n",
      "Epoch 6/10\n",
      "60000/60000 [==============================] - 2s - loss: 0.0548 - acc: 0.9835     \n",
      "Epoch 7/10\n",
      "60000/60000 [==============================] - 2s - loss: 0.0484 - acc: 0.9850     \n",
      "Epoch 8/10\n",
      "60000/60000 [==============================] - 2s - loss: 0.0446 - acc: 0.9867     \n",
      "Epoch 9/10\n",
      "60000/60000 [==============================] - 2s - loss: 0.0398 - acc: 0.9882     \n",
      "Epoch 10/10\n",
      "60000/60000 [==============================] - 2s - loss: 0.0355 - acc: 0.9892     \n",
      "Test score: 0.073095669153\n",
      "Test accuracy: 0.9835\n"
     ]
    }
   ],
   "source": [
    "relu_model = Sequential()\n",
    "\n",
    "relu_model.add(Dense(784, init='zero', input_shape=(784,)))\n",
    "relu_model.add(Activation('relu'))                \n",
    "relu_model.add(Dropout(0.3))\n",
    "\n",
    "relu_model.add(Dense(200))\n",
    "relu_model.add(Activation('relu'))\n",
    "relu_model.add(Dropout(0.3))\n",
    "\n",
    "relu_model.add(Dense(10))\n",
    "relu_model.add(Activation('softmax'))\n",
    "\n",
    "relu_model.compile(loss='categorical_crossentropy', optimizer='rmsprop', metrics=['accuracy'])\n",
    "relu_model.fit(X_train, Y_train,\n",
    "              batch_size=200, nb_epoch=10, verbose=1)\n",
    "\n",
    "score = relu_model.evaluate(X_test, Y_test,\n",
    "                       show_accuracy=True, verbose=0)\n",
    "print('Test score:', score[0])\n",
    "print('Test accuracy:', score[1])"
   ]
  },
  {
   "cell_type": "code",
   "execution_count": 74,
   "metadata": {
    "collapsed": false
   },
   "outputs": [
    {
     "name": "stdout",
     "output_type": "stream",
     "text": [
      " 9952/10000 [============================>.] - ETA: 0s"
     ]
    }
   ],
   "source": [
    "# The predict_classes function outputs the highest probability class\n",
    "# according to the trained classifier for each input example.\n",
    "predicted_classes = relu_model.predict_classes(X_test)\n",
    "\n",
    "# Check which items we got right / wrong\n",
    "correct_indices = np.nonzero(predicted_classes == y_test)[0]\n",
    "incorrect_indices = np.nonzero(predicted_classes != y_test)[0]"
   ]
  },
  {
   "cell_type": "code",
   "execution_count": 76,
   "metadata": {
    "collapsed": false
   },
   "outputs": [
    {
     "data": {
      "image/png": "[encoded data removed]",
      "text/plain": [
       "<matplotlib.figure.Figure at 0x7f1625e19990>"
      ]
     },
     "metadata": {},
     "output_type": "display_data"
    }
   ],
   "source": [
    "relu_conf_matrix = confusion_matrix(y_test, predicted_classes)\n",
    "relu_cm_norm = relu_conf_matrix.astype(\"float\") / relu_conf_matrix.sum(axis=1)[:, np.newaxis]\n",
    "feature_names = range(0,10)\n",
    "\n",
    "plot_confusion(relu_cm_norm, feature_names, \"Confusion Matrix Model with relu activation\")"
   ]
  },
  {
   "cell_type": "code",
   "execution_count": null,
   "metadata": {
    "collapsed": true
   },
   "outputs": [],
   "source": []
  }
 ],
 "metadata": {
  "kernelspec": {
   "display_name": "Python 2",
   "language": "python",
   "name": "python2"
  },
  "language_info": {
   "codemirror_mode": {
    "name": "ipython",
    "version": 2
   },
   "file_extension": ".py",
   "mimetype": "text/x-python",
   "name": "python",
   "nbconvert_exporter": "python",
   "pygments_lexer": "ipython2",
   "version": "2.7.12"
  }
 },
 "nbformat": 4,
 "nbformat_minor": 1
}
